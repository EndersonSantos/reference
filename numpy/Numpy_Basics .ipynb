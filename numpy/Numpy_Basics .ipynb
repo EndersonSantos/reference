{
 "cells": [
  {
   "cell_type": "markdown",
   "metadata": {},
   "source": [
    "# Creating Numpy Array"
   ]
  },
  {
   "cell_type": "code",
   "execution_count": null,
   "metadata": {},
   "outputs": [],
   "source": [
    "np.array([1,2,3])"
   ]
  },
  {
   "cell_type": "markdown",
   "metadata": {},
   "source": [
    "# Creating Matrix"
   ]
  },
  {
   "cell_type": "code",
   "execution_count": null,
   "metadata": {},
   "outputs": [],
   "source": [
    "my_matrix = [[1,2,3],[4,5,6],[7,8,9]]\n",
    "np.array(my_matrix)"
   ]
  },
  {
   "cell_type": "markdown",
   "metadata": {},
   "source": [
    "# Build in Methods to create numpy arrays"
   ]
  },
  {
   "cell_type": "code",
   "execution_count": null,
   "metadata": {},
   "outputs": [],
   "source": [
    "np.arange(0,10)\n",
    "np.arange(0,11,2)\n",
    "np.zeros(3)\n",
    "np.zeros((5,5))\n",
    "np.ones(3)\n",
    "np.ones((3,3))\n",
    "np.linspace(0,10,3)\n",
    "np.linspace(0,5,20)\n",
    "np.eye(4) #Identity Matrix \n",
    "np.random.rand(2) #Create random array\n",
    "np.random.rand(5,5) #Create random matrix\n",
    "np.random.randn(2) #Returns a sample (or samples) from the \"standard normal\" distribution\n",
    "np.random.randn(5,5) #Returns a sample (or samples) from the \"standard normal\" distribution\n",
    "np.random.randint(1,100) #Returns random integers from low (inclusive) to high (exclusive). \n",
    "np.random.randint(1,100,10) #Returns random integers from low (inclusive) to high (exclusive)."
   ]
  },
  {
   "cell_type": "markdown",
   "metadata": {},
   "source": [
    "# Random Seed "
   ]
  },
  {
   "cell_type": "code",
   "execution_count": null,
   "metadata": {},
   "outputs": [],
   "source": [
    "np.random.seed(42)\n",
    "np.random.rand(4)"
   ]
  },
  {
   "cell_type": "markdown",
   "metadata": {},
   "source": [
    "# Basic Operations "
   ]
  },
  {
   "cell_type": "code",
   "execution_count": null,
   "metadata": {},
   "outputs": [],
   "source": [
    "arr.reshape(5,5)\n",
    "ranarr.max()\n",
    "ranarr.argmax()\n",
    "ranarr.min()\n",
    "ranarr.argmin()\n",
    "arr.var()\n",
    "arr.std()\n",
    "arr.shape\n",
    "arr2.dtype\n",
    "\n",
    "arr_2d.sum(axis=1)"
   ]
  },
  {
   "cell_type": "markdown",
   "metadata": {},
   "source": [
    "# Indexing and Slicing "
   ]
  },
  {
   "cell_type": "code",
   "execution_count": null,
   "metadata": {},
   "outputs": [],
   "source": [
    "arr[8]\n",
    "arr[1:5]\n",
    "\n",
    "arr[0:5]=100\n",
    "slice_of_arr[:]=99 \n",
    "\n",
    "arr_copy = arr.copy() #Gettting a copy of the numpy array\n",
    "\n",
    "arr_2d[1][0]\n",
    "arr_2d[:2,1:]\n",
    "arr_2d[2,:]"
   ]
  },
  {
   "cell_type": "markdown",
   "metadata": {},
   "source": [
    "# Conditioning Selection"
   ]
  },
  {
   "cell_type": "code",
   "execution_count": null,
   "metadata": {},
   "outputs": [],
   "source": [
    "arr > 4\n",
    "\n",
    "bool_arr = arr>4\n",
    "arr[bool_arr]\n",
    "\n",
    "x = 2\n",
    "arr[arr>x]"
   ]
  },
  {
   "cell_type": "markdown",
   "metadata": {},
   "source": [
    "# Aritimethics "
   ]
  },
  {
   "cell_type": "code",
   "execution_count": null,
   "metadata": {},
   "outputs": [],
   "source": [
    "arr + arr\n",
    "arr * arr\n",
    "arr - arr\n",
    "arr/arr\n",
    "1/arr\n",
    "arr**3"
   ]
  },
  {
   "cell_type": "markdown",
   "metadata": {},
   "source": [
    "# Universal Functions "
   ]
  },
  {
   "cell_type": "code",
   "execution_count": null,
   "metadata": {},
   "outputs": [],
   "source": [
    "np.sqrt(arr)\n",
    "np.exp(arr)\n",
    "np.log(arr)\n",
    "np.sin(arr)"
   ]
  }
 ],
 "metadata": {
  "kernelspec": {
   "display_name": "Python 3",
   "language": "python",
   "name": "python3"
  },
  "language_info": {
   "codemirror_mode": {
    "name": "ipython",
    "version": 3
   },
   "file_extension": ".py",
   "mimetype": "text/x-python",
   "name": "python",
   "nbconvert_exporter": "python",
   "pygments_lexer": "ipython3",
   "version": "3.8.5"
  }
 },
 "nbformat": 4,
 "nbformat_minor": 4
}
